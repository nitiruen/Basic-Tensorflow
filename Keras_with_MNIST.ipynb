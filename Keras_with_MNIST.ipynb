{
  "nbformat": 4,
  "nbformat_minor": 0,
  "metadata": {
    "colab": {
      "name": "Keras with MNIST.ipynb",
      "provenance": [],
      "collapsed_sections": [],
      "authorship_tag": "ABX9TyPz/bt3bX7ALBPgvBKr66Ct",
      "include_colab_link": true
    },
    "kernelspec": {
      "name": "python3",
      "display_name": "Python 3"
    }
  },
  "cells": [
    {
      "cell_type": "markdown",
      "metadata": {
        "id": "view-in-github",
        "colab_type": "text"
      },
      "source": [
        "<a href=\"https://colab.research.google.com/github/nitiruen/Basic-Tensorflow-and-Keras/blob/main/Keras_with_MNIST.ipynb\" target=\"_parent\"><img src=\"https://colab.research.google.com/assets/colab-badge.svg\" alt=\"Open In Colab\"/></a>"
      ]
    },
    {
      "cell_type": "markdown",
      "metadata": {
        "id": "VSIM7chQ-3Zh"
      },
      "source": [
        "# **Task is to classify the images in 10 class 0-9 number of handwritten digit.**\n"
      ]
    },
    {
      "cell_type": "code",
      "metadata": {
        "id": "PC93wPMrIb9X"
      },
      "source": [
        "import keras\n",
        "from keras.datasets import mnist\n",
        "from keras.models import Sequential\n",
        "from keras.layers import Dense, Dropout\n",
        "from keras.layers import Flatten, MaxPooling2D, Conv2D\n",
        "\n",
        "import matplotlib.pyplot as plt\n",
        "%matplotlib inline"
      ],
      "execution_count": 50,
      "outputs": []
    },
    {
      "cell_type": "markdown",
      "metadata": {
        "id": "SfuBcP1s_JSe"
      },
      "source": [
        "# Loading Data\n",
        "* Dataset size 60,000 samples of handwritten images.\n",
        "* The size of each image is 28x28 pixels.\n",
        "* Each pixel has value in the range of [0,255] where 0 represents black, and 255 represents white.\n",
        "* The label of image has 0-9 digit"
      ]
    },
    {
      "cell_type": "code",
      "metadata": {
        "id": "i38h-WxlJUI3"
      },
      "source": [
        "(X_train, y_train), (X_test, y_test) = mnist.load_data()"
      ],
      "execution_count": 51,
      "outputs": []
    },
    {
      "cell_type": "code",
      "metadata": {
        "id": "vPg-ReyBLavO",
        "outputId": "7f0849fd-d994-4386-b7bc-ddac93fcdfa6",
        "colab": {
          "base_uri": "https://localhost:8080/",
          "height": 34
        }
      },
      "source": [
        "X_train.shape, y_train.shape"
      ],
      "execution_count": 52,
      "outputs": [
        {
          "output_type": "execute_result",
          "data": {
            "text/plain": [
              "((60000, 28, 28), (60000,))"
            ]
          },
          "metadata": {
            "tags": []
          },
          "execution_count": 52
        }
      ]
    },
    {
      "cell_type": "code",
      "metadata": {
        "id": "R6sfp9zuLiW8",
        "outputId": "7e934b42-72d2-4e4e-f4d7-ffd9f697723a",
        "colab": {
          "base_uri": "https://localhost:8080/",
          "height": 34
        }
      },
      "source": [
        "X_test.shape, y_test.shape"
      ],
      "execution_count": 53,
      "outputs": [
        {
          "output_type": "execute_result",
          "data": {
            "text/plain": [
              "((10000, 28, 28), (10000,))"
            ]
          },
          "metadata": {
            "tags": []
          },
          "execution_count": 53
        }
      ]
    },
    {
      "cell_type": "markdown",
      "metadata": {
        "id": "BqukhaGFJsbS"
      },
      "source": [
        "**Reshape to (60000,28,28,1)**\n",
        "\n",
        "**60,000 number of examples**\n",
        "\n",
        "***28 x 28 pixels***\n",
        "\n",
        "***1 gray color (3 is for RGB colors)***"
      ]
    },
    {
      "cell_type": "code",
      "metadata": {
        "id": "0JjTpx9BJjs7"
      },
      "source": [
        "X_train = X_train.reshape(60000,28,28,1).astype('float32')\n",
        "X_test = X_test.reshape(10000,28,28,1).astype('float32')"
      ],
      "execution_count": 54,
      "outputs": []
    },
    {
      "cell_type": "markdown",
      "metadata": {
        "id": "BtG4v2FRKzCp"
      },
      "source": [
        "**Show example image of MNIST**"
      ]
    },
    {
      "cell_type": "code",
      "metadata": {
        "id": "dlG0ZnuKKvQs",
        "outputId": "42ecae0c-6fcb-4d5e-e970-27acf02d1c6d",
        "colab": {
          "base_uri": "https://localhost:8080/",
          "height": 282
        }
      },
      "source": [
        "plt.imshow(X_train[2].reshape(28,28), cmap = 'gray')"
      ],
      "execution_count": 55,
      "outputs": [
        {
          "output_type": "execute_result",
          "data": {
            "text/plain": [
              "<matplotlib.image.AxesImage at 0x7f275efd5828>"
            ]
          },
          "metadata": {
            "tags": []
          },
          "execution_count": 55
        },
        {
          "output_type": "display_data",
          "data": {
            "image/png": "[encoded data removed]",
            "text/plain": [
              "<Figure size 432x288 with 1 Axes>"
            ]
          },
          "metadata": {
            "tags": [],
            "needs_background": "light"
          }
        }
      ]
    },
    {
      "cell_type": "markdown",
      "metadata": {
        "id": "Ke1ATYlDM987"
      },
      "source": [
        "**To reduce saturation of neural network we divide max scale.**"
      ]
    },
    {
      "cell_type": "code",
      "metadata": {
        "id": "DycCYTiBLSmn",
        "outputId": "d382dc65-239c-4c26-daef-253bc89f9954",
        "colab": {
          "base_uri": "https://localhost:8080/",
          "height": 34
        }
      },
      "source": [
        "X_train[0].max(), X_test[0].max()"
      ],
      "execution_count": 56,
      "outputs": [
        {
          "output_type": "execute_result",
          "data": {
            "text/plain": [
              "(255.0, 255.0)"
            ]
          },
          "metadata": {
            "tags": []
          },
          "execution_count": 56
        }
      ]
    },
    {
      "cell_type": "code",
      "metadata": {
        "id": "ytW-KrCgND84"
      },
      "source": [
        "X_train /= 255\n",
        "X_test /= 255"
      ],
      "execution_count": 57,
      "outputs": []
    },
    {
      "cell_type": "code",
      "metadata": {
        "id": "qwEf_9PwNjVk",
        "outputId": "39201241-8dfa-4de0-822a-005866022f6c",
        "colab": {
          "base_uri": "https://localhost:8080/",
          "height": 34
        }
      },
      "source": [
        "X_train[2].max()"
      ],
      "execution_count": 58,
      "outputs": [
        {
          "output_type": "execute_result",
          "data": {
            "text/plain": [
              "1.0"
            ]
          },
          "metadata": {
            "tags": []
          },
          "execution_count": 58
        }
      ]
    },
    {
      "cell_type": "code",
      "metadata": {
        "id": "oors34tnN_sR",
        "outputId": "87bb7675-f838-402e-8b85-f217cdb57f33",
        "colab": {
          "base_uri": "https://localhost:8080/",
          "height": 34
        }
      },
      "source": [
        "X_test[2].max()"
      ],
      "execution_count": 59,
      "outputs": [
        {
          "output_type": "execute_result",
          "data": {
            "text/plain": [
              "1.0"
            ]
          },
          "metadata": {
            "tags": []
          },
          "execution_count": 59
        }
      ]
    },
    {
      "cell_type": "markdown",
      "metadata": {
        "id": "k3_uAFvmOrUZ"
      },
      "source": [
        "**One hot encoding by Keras**"
      ]
    },
    {
      "cell_type": "code",
      "metadata": {
        "id": "5ad3WP54OoMR"
      },
      "source": [
        "y_train = keras.utils.to_categorical(y_train, num_classes=10)\n",
        "y_test = keras.utils.to_categorical(y_test, num_classes=10)"
      ],
      "execution_count": 60,
      "outputs": []
    },
    {
      "cell_type": "code",
      "metadata": {
        "id": "tIybfxeeWder",
        "outputId": "ac751865-7114-456e-90b4-fd7695b7f6f8",
        "colab": {
          "base_uri": "https://localhost:8080/",
          "height": 282
        }
      },
      "source": [
        "plt.imshow(X_train[2].reshape(28,28), cmap = 'gray')\n",
        "y_train[2]"
      ],
      "execution_count": 61,
      "outputs": [
        {
          "output_type": "execute_result",
          "data": {
            "text/plain": [
              "array([0., 0., 0., 0., 1., 0., 0., 0., 0., 0.], dtype=float32)"
            ]
          },
          "metadata": {
            "tags": []
          },
          "execution_count": 61
        },
        {
          "output_type": "display_data",
          "data": {
            "image/png": "[encoded data removed]",
            "text/plain": [
              "<Figure size 432x288 with 1 Axes>"
            ]
          },
          "metadata": {
            "tags": [],
            "needs_background": "light"
          }
        }
      ]
    },
    {
      "cell_type": "code",
      "metadata": {
        "id": "olMduypg0OFx",
        "outputId": "80a7b68e-b04e-49e5-ef2d-904ab498f489",
        "colab": {
          "base_uri": "https://localhost:8080/",
          "height": 34
        }
      },
      "source": [
        "y_train.shape"
      ],
      "execution_count": 62,
      "outputs": [
        {
          "output_type": "execute_result",
          "data": {
            "text/plain": [
              "(60000, 10)"
            ]
          },
          "metadata": {
            "tags": []
          },
          "execution_count": 62
        }
      ]
    },
    {
      "cell_type": "markdown",
      "metadata": {
        "id": "q_W2kRXXXCSJ"
      },
      "source": [
        "**Step1: Build model**"
      ]
    },
    {
      "cell_type": "code",
      "metadata": {
        "id": "2AaRSwrEXGt8"
      },
      "source": [
        "model = Sequential()\n",
        "model.add(Conv2D(32, kernel_size=(3,3), activation='relu', input_shape = (28,28,1)))\n",
        "model.add(Conv2D(64, kernel_size=(3,3), activation='relu'))\n",
        "model.add(MaxPooling2D(pool_size=(2,2)))\n",
        "model.add(Dropout(0.25))\n",
        "model.add(Flatten())\n",
        "model.add(Dense(128, activation='relu'))\n",
        "model.add(Dropout(0.5))\n",
        "model.add(Dense(10, activation='softmax'))"
      ],
      "execution_count": 63,
      "outputs": []
    },
    {
      "cell_type": "markdown",
      "metadata": {
        "id": "tHZRZrDL0iml"
      },
      "source": [
        "**Step2: Complie model**\n"
      ]
    },
    {
      "cell_type": "code",
      "metadata": {
        "id": "qmFD182SY8UA"
      },
      "source": [
        "model.compile(optimizer='adam', loss='categorical_crossentropy', metrics=['accuracy'])"
      ],
      "execution_count": 64,
      "outputs": []
    },
    {
      "cell_type": "markdown",
      "metadata": {
        "id": "gWXRih9K0xek"
      },
      "source": [
        "**Step3: Train model**"
      ]
    },
    {
      "cell_type": "code",
      "metadata": {
        "id": "1c9Wl_phYktq",
        "outputId": "9bfa2abb-3485-4637-ab13-4de29f3373c4",
        "colab": {
          "base_uri": "https://localhost:8080/",
          "height": 544
        }
      },
      "source": [
        "model.fit(X_train, y_train, batch_size=128, epochs=15, verbose=1,validation_data=(X_test,y_test))"
      ],
      "execution_count": 65,
      "outputs": [
        {
          "output_type": "stream",
          "text": [
            "Epoch 1/15\n",
            "469/469 [==============================] - 141s 300ms/step - loss: 0.2399 - accuracy: 0.9266 - val_loss: 0.0568 - val_accuracy: 0.9823\n",
            "Epoch 2/15\n",
            "469/469 [==============================] - 140s 298ms/step - loss: 0.0850 - accuracy: 0.9754 - val_loss: 0.0370 - val_accuracy: 0.9869\n",
            "Epoch 3/15\n",
            "469/469 [==============================] - 140s 299ms/step - loss: 0.0637 - accuracy: 0.9807 - val_loss: 0.0339 - val_accuracy: 0.9898\n",
            "Epoch 4/15\n",
            "469/469 [==============================] - 141s 301ms/step - loss: 0.0512 - accuracy: 0.9842 - val_loss: 0.0303 - val_accuracy: 0.9893\n",
            "Epoch 5/15\n",
            "469/469 [==============================] - 140s 298ms/step - loss: 0.0421 - accuracy: 0.9869 - val_loss: 0.0318 - val_accuracy: 0.9905\n",
            "Epoch 6/15\n",
            "469/469 [==============================] - 139s 297ms/step - loss: 0.0384 - accuracy: 0.9877 - val_loss: 0.0286 - val_accuracy: 0.9914\n",
            "Epoch 7/15\n",
            "469/469 [==============================] - 140s 298ms/step - loss: 0.0333 - accuracy: 0.9892 - val_loss: 0.0291 - val_accuracy: 0.9913\n",
            "Epoch 8/15\n",
            "469/469 [==============================] - 140s 298ms/step - loss: 0.0301 - accuracy: 0.9903 - val_loss: 0.0280 - val_accuracy: 0.9919\n",
            "Epoch 9/15\n",
            "469/469 [==============================] - 140s 299ms/step - loss: 0.0270 - accuracy: 0.9919 - val_loss: 0.0309 - val_accuracy: 0.9905\n",
            "Epoch 10/15\n",
            "469/469 [==============================] - 142s 303ms/step - loss: 0.0231 - accuracy: 0.9925 - val_loss: 0.0300 - val_accuracy: 0.9925\n",
            "Epoch 11/15\n",
            "469/469 [==============================] - 140s 299ms/step - loss: 0.0223 - accuracy: 0.9927 - val_loss: 0.0291 - val_accuracy: 0.9927\n",
            "Epoch 12/15\n",
            "469/469 [==============================] - 140s 299ms/step - loss: 0.0220 - accuracy: 0.9926 - val_loss: 0.0262 - val_accuracy: 0.9928\n",
            "Epoch 13/15\n",
            "469/469 [==============================] - 140s 298ms/step - loss: 0.0181 - accuracy: 0.9943 - val_loss: 0.0340 - val_accuracy: 0.9910\n",
            "Epoch 14/15\n",
            "469/469 [==============================] - 142s 303ms/step - loss: 0.0184 - accuracy: 0.9939 - val_loss: 0.0281 - val_accuracy: 0.9928\n",
            "Epoch 15/15\n",
            "469/469 [==============================] - 140s 298ms/step - loss: 0.0189 - accuracy: 0.9937 - val_loss: 0.0297 - val_accuracy: 0.9925\n"
          ],
          "name": "stdout"
        },
        {
          "output_type": "execute_result",
          "data": {
            "text/plain": [
              "<tensorflow.python.keras.callbacks.History at 0x7f275eed15c0>"
            ]
          },
          "metadata": {
            "tags": []
          },
          "execution_count": 65
        }
      ]
    },
    {
      "cell_type": "markdown",
      "metadata": {
        "id": "Zc7Owh4C09xg"
      },
      "source": [
        "**Step4: Evaluate model**"
      ]
    },
    {
      "cell_type": "code",
      "metadata": {
        "id": "XBosN_t20v_c",
        "outputId": "ee030335-28fe-4427-e6ae-f467a4995846",
        "colab": {
          "base_uri": "https://localhost:8080/",
          "height": 85
        }
      },
      "source": [
        "pred = model.evaluate(X_test, y_test)\n",
        "print('\\nLoss = ' + str(pred[0]))\n",
        "print('Test Accuracy = ' + str(pred[1]))"
      ],
      "execution_count": 66,
      "outputs": [
        {
          "output_type": "stream",
          "text": [
            "313/313 [==============================] - 7s 21ms/step - loss: 0.0297 - accuracy: 0.9925\n",
            "\n",
            "Loss = 0.029652617871761322\n",
            "Test Accuracy = 0.9925000071525574\n"
          ],
          "name": "stdout"
        }
      ]
    }
  ]
}