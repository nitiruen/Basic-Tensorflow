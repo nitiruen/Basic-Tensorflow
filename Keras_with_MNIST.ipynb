{
  "nbformat": 4,
  "nbformat_minor": 0,
  "metadata": {
    "colab": {
      "name": "Keras with MNIST.ipynb",
      "provenance": [],
      "collapsed_sections": [],
      "authorship_tag": "ABX9TyPz/bt3bX7ALBPgvBKr66Ct",
      "include_colab_link": true
    },
    "kernelspec": {
      "name": "python3",
      "display_name": "Python 3"
    }
  },
  "cells": [
    {
      "cell_type": "markdown",
      "metadata": {
        "id": "view-in-github",
        "colab_type": "text"
      },
      "source": [
        "<a href=\"https://colab.research.google.com/github/nitiruen/Basic-Tensorflow-and-Keras/blob/main/Keras_with_MNIST.ipynb\" target=\"_parent\"><img src=\"https://colab.research.google.com/assets/colab-badge.svg\" alt=\"Open In Colab\"/></a>"
      ]
    },
    {
      "cell_type": "markdown",
      "metadata": {
        "id": "VSIM7chQ-3Zh"
      },
      "source": [
        "# **Task is to classify the images in 10 class 0-9 number of handwritten digit.**\n"
      ]
    },
    {
      "cell_type": "code",
      "metadata": {
        "id": "PC93wPMrIb9X"
      },
      "source": [
        "import keras\n",
        "from keras.datasets import mnist\n",
        "from keras.models import Sequential\n",
        "from keras.layers import Dense, Dropout\n",
        "from keras.layers import Flatten, MaxPooling2D, Conv2D\n",
        "\n",
        "import matplotlib.pyplot as plt\n",
        "%matplotlib inline"
      ],
      "execution_count": 30,
      "outputs": []
    },
    {
      "cell_type": "markdown",
      "metadata": {
        "id": "SfuBcP1s_JSe"
      },
      "source": [
        "# Loading Data\n",
        "* Dataset size 60,000 samples of handwritten images.\n",
        "* The size of each image is 28x28 pixels.\n",
        "* Each pixel has value in the range of [0,255] where 0 represents black, and 255 represents white.\n",
        "* The label of image has 0-9 digit"
      ]
    },
    {
      "cell_type": "code",
      "metadata": {
        "id": "i38h-WxlJUI3"
      },
      "source": [
        "(X_train, y_train), (X_test, y_test) = mnist.load_data()"
      ],
      "execution_count": 31,
      "outputs": []
    },
    {
      "cell_type": "code",
      "metadata": {
        "id": "vPg-ReyBLavO",
        "outputId": "59818316-e590-4ef2-94d1-fff3300aea0e",
        "colab": {
          "base_uri": "https://localhost:8080/",
          "height": 34
        }
      },
      "source": [
        "X_train.shape, y_train.shape"
      ],
      "execution_count": 32,
      "outputs": [
        {
          "output_type": "execute_result",
          "data": {
            "text/plain": [
              "((60000, 28, 28), (60000,))"
            ]
          },
          "metadata": {
            "tags": []
          },
          "execution_count": 32
        }
      ]
    },
    {
      "cell_type": "code",
      "metadata": {
        "id": "R6sfp9zuLiW8",
        "outputId": "66a44166-fa89-460d-d19d-2ed813aa9320",
        "colab": {
          "base_uri": "https://localhost:8080/",
          "height": 34
        }
      },
      "source": [
        "X_test.shape, y_test.shape"
      ],
      "execution_count": 33,
      "outputs": [
        {
          "output_type": "execute_result",
          "data": {
            "text/plain": [
              "((10000, 28, 28), (10000,))"
            ]
          },
          "metadata": {
            "tags": []
          },
          "execution_count": 33
        }
      ]
    },
    {
      "cell_type": "markdown",
      "metadata": {
        "id": "BqukhaGFJsbS"
      },
      "source": [
        "**Reshape to (60000,28,28,1)**\n",
        "\n",
        "**60,000 number of examples**\n",
        "\n",
        "***28 x 28 pixels***\n",
        "\n",
        "***1 gray color (3 is for RGB colors)***"
      ]
    },
    {
      "cell_type": "code",
      "metadata": {
        "id": "0JjTpx9BJjs7"
      },
      "source": [
        "X_train = X_train.reshape(60000,28,28,1).astype('float32')\n",
        "X_test = X_test.reshape(10000,28,28,1).astype('float32')"
      ],
      "execution_count": 34,
      "outputs": []
    },
    {
      "cell_type": "markdown",
      "metadata": {
        "id": "BtG4v2FRKzCp"
      },
      "source": [
        "**Show example image of MNIST**"
      ]
    },
    {
      "cell_type": "code",
      "metadata": {
        "id": "dlG0ZnuKKvQs",
        "outputId": "75c47230-d818-47be-8c17-7c00e8d4dc8d",
        "colab": {
          "base_uri": "https://localhost:8080/",
          "height": 282
        }
      },
      "source": [
        "plt.imshow(X_train[2].reshape(28,28), cmap = 'gray')"
      ],
      "execution_count": 35,
      "outputs": [
        {
          "output_type": "execute_result",
          "data": {
            "text/plain": [
              "<matplotlib.image.AxesImage at 0x7f2761ab4ac8>"
            ]
          },
          "metadata": {
            "tags": []
          },
          "execution_count": 35
        },
        {
          "output_type": "display_data",
          "data": {
            "image/png": "[encoded data removed]",
            "text/plain": [
              "<Figure size 432x288 with 1 Axes>"
            ]
          },
          "metadata": {
            "tags": [],
            "needs_background": "light"
          }
        }
      ]
    },
    {
      "cell_type": "markdown",
      "metadata": {
        "id": "Ke1ATYlDM987"
      },
      "source": [
        "**To reduce saturation of neural network we divide max scale.**"
      ]
    },
    {
      "cell_type": "code",
      "metadata": {
        "id": "DycCYTiBLSmn",
        "outputId": "719c78c0-3b9b-4ecd-a313-45991c063734",
        "colab": {
          "base_uri": "https://localhost:8080/",
          "height": 34
        }
      },
      "source": [
        "X_train[0].max(), X_test[0].max()"
      ],
      "execution_count": 36,
      "outputs": [
        {
          "output_type": "execute_result",
          "data": {
            "text/plain": [
              "(255.0, 255.0)"
            ]
          },
          "metadata": {
            "tags": []
          },
          "execution_count": 36
        }
      ]
    },
    {
      "cell_type": "code",
      "metadata": {
        "id": "ytW-KrCgND84"
      },
      "source": [
        "X_train /= 255\n",
        "X_test /= 255"
      ],
      "execution_count": 37,
      "outputs": []
    },
    {
      "cell_type": "code",
      "metadata": {
        "id": "qwEf_9PwNjVk",
        "outputId": "d979bbbf-bfdf-4292-d0ee-a0042cdbda95",
        "colab": {
          "base_uri": "https://localhost:8080/",
          "height": 34
        }
      },
      "source": [
        "X_train[2].max()"
      ],
      "execution_count": 38,
      "outputs": [
        {
          "output_type": "execute_result",
          "data": {
            "text/plain": [
              "1.0"
            ]
          },
          "metadata": {
            "tags": []
          },
          "execution_count": 38
        }
      ]
    },
    {
      "cell_type": "code",
      "metadata": {
        "id": "oors34tnN_sR",
        "outputId": "be64cd7b-e0e4-4c7d-a964-41c3c62d09ec",
        "colab": {
          "base_uri": "https://localhost:8080/",
          "height": 34
        }
      },
      "source": [
        "X_test[2].max()"
      ],
      "execution_count": 39,
      "outputs": [
        {
          "output_type": "execute_result",
          "data": {
            "text/plain": [
              "1.0"
            ]
          },
          "metadata": {
            "tags": []
          },
          "execution_count": 39
        }
      ]
    },
    {
      "cell_type": "markdown",
      "metadata": {
        "id": "k3_uAFvmOrUZ"
      },
      "source": [
        "**One hot encoding by Keras**"
      ]
    },
    {
      "cell_type": "code",
      "metadata": {
        "id": "5ad3WP54OoMR"
      },
      "source": [
        "y_train = keras.utils.to_categorical(y_train, num_classes=10)\n",
        "y_test = keras.utils.to_categorical(y_test, num_classes=10)"
      ],
      "execution_count": 40,
      "outputs": []
    },
    {
      "cell_type": "code",
      "metadata": {
        "id": "tIybfxeeWder",
        "outputId": "28e519ce-401e-4cef-92b6-3b544c05c802",
        "colab": {
          "base_uri": "https://localhost:8080/",
          "height": 282
        }
      },
      "source": [
        "plt.imshow(X_train[2].reshape(28,28), cmap = 'gray')\n",
        "y_train[2]"
      ],
      "execution_count": 41,
      "outputs": [
        {
          "output_type": "execute_result",
          "data": {
            "text/plain": [
              "array([0., 0., 0., 0., 1., 0., 0., 0., 0., 0.], dtype=float32)"
            ]
          },
          "metadata": {
            "tags": []
          },
          "execution_count": 41
        },
        {
          "output_type": "display_data",
          "data": {
            "image/png": "[encoded data removed]",
            "text/plain": [
              "<Figure size 432x288 with 1 Axes>"
            ]
          },
          "metadata": {
            "tags": [],
            "needs_background": "light"
          }
        }
      ]
    },
    {
      "cell_type": "code",
      "metadata": {
        "id": "olMduypg0OFx",
        "outputId": "2fb7f48b-c38b-4941-874e-80e0c5bb60c8",
        "colab": {
          "base_uri": "https://localhost:8080/",
          "height": 34
        }
      },
      "source": [
        "y_train.shape"
      ],
      "execution_count": 42,
      "outputs": [
        {
          "output_type": "execute_result",
          "data": {
            "text/plain": [
              "(60000, 10)"
            ]
          },
          "metadata": {
            "tags": []
          },
          "execution_count": 42
        }
      ]
    },
    {
      "cell_type": "markdown",
      "metadata": {
        "id": "q_W2kRXXXCSJ"
      },
      "source": [
        "**Step1: Build model**"
      ]
    },
    {
      "cell_type": "code",
      "metadata": {
        "id": "2AaRSwrEXGt8"
      },
      "source": [
        "model = Sequential()\n",
        "model.add(Conv2D(32, kernel_size=(3,3), activation='relu', input_shape = (28,28,1)))\n",
        "model.add(Conv2D(64, kernel_size=(3,3), activation='relu'))\n",
        "model.add(MaxPooling2D(pool_size=(2,2)))\n",
        "model.add(Dropout(0.25))\n",
        "model.add(Flatten())\n",
        "model.add(Dense(128, activation='relu'))\n",
        "model.add(Dropout(0.5))\n",
        "model.add(Dense(10, activation='softmax'))"
      ],
      "execution_count": 43,
      "outputs": []
    },
    {
      "cell_type": "markdown",
      "metadata": {
        "id": "tHZRZrDL0iml"
      },
      "source": [
        "**Step2: Complie model**\n"
      ]
    },
    {
      "cell_type": "code",
      "metadata": {
        "id": "qmFD182SY8UA"
      },
      "source": [
        "model.compile(optimizer='adam', loss='categorical_crossentropy', metrics=['accuracy'])"
      ],
      "execution_count": 44,
      "outputs": []
    },
    {
      "cell_type": "markdown",
      "metadata": {
        "id": "gWXRih9K0xek"
      },
      "source": [
        "**Step3: Train model**"
      ]
    },
    {
      "cell_type": "code",
      "metadata": {
        "id": "1c9Wl_phYktq",
        "outputId": "c9cfc0b2-cff4-49f1-efd8-045147c8ff8f",
        "colab": {
          "base_uri": "https://localhost:8080/",
          "height": 544
        }
      },
      "source": [
        "model.fit(X_train, y_train, batch_size=128, epochs=15, verbose=1,validation_data=(X_test,y_test))"
      ],
      "execution_count": 45,
      "outputs": [
        {
          "output_type": "stream",
          "text": [
            "Epoch 1/15\n",
            "469/469 [==============================] - 142s 303ms/step - loss: 0.2382 - accuracy: 0.9284 - val_loss: 0.0524 - val_accuracy: 0.9834\n",
            "Epoch 2/15\n",
            "469/469 [==============================] - 140s 299ms/step - loss: 0.0841 - accuracy: 0.9750 - val_loss: 0.0385 - val_accuracy: 0.9862\n",
            "Epoch 3/15\n",
            "469/469 [==============================] - 142s 302ms/step - loss: 0.0627 - accuracy: 0.9803 - val_loss: 0.0329 - val_accuracy: 0.9889\n",
            "Epoch 4/15\n",
            "469/469 [==============================] - 139s 296ms/step - loss: 0.0520 - accuracy: 0.9841 - val_loss: 0.0300 - val_accuracy: 0.9893\n",
            "Epoch 5/15\n",
            "469/469 [==============================] - 138s 295ms/step - loss: 0.0431 - accuracy: 0.9870 - val_loss: 0.0266 - val_accuracy: 0.9913\n",
            "Epoch 6/15\n",
            "469/469 [==============================] - 139s 296ms/step - loss: 0.0376 - accuracy: 0.9883 - val_loss: 0.0296 - val_accuracy: 0.9910\n",
            "Epoch 7/15\n",
            "469/469 [==============================] - 140s 299ms/step - loss: 0.0347 - accuracy: 0.9885 - val_loss: 0.0286 - val_accuracy: 0.9906\n",
            "Epoch 8/15\n",
            "469/469 [==============================] - 139s 296ms/step - loss: 0.0321 - accuracy: 0.9898 - val_loss: 0.0253 - val_accuracy: 0.9921\n",
            "Epoch 9/15\n",
            "469/469 [==============================] - 140s 299ms/step - loss: 0.0263 - accuracy: 0.9913 - val_loss: 0.0286 - val_accuracy: 0.9913\n",
            "Epoch 10/15\n",
            "469/469 [==============================] - 139s 297ms/step - loss: 0.0252 - accuracy: 0.9920 - val_loss: 0.0262 - val_accuracy: 0.9922\n",
            "Epoch 11/15\n",
            "469/469 [==============================] - 140s 299ms/step - loss: 0.0229 - accuracy: 0.9925 - val_loss: 0.0269 - val_accuracy: 0.9921\n",
            "Epoch 12/15\n",
            "469/469 [==============================] - 140s 298ms/step - loss: 0.0206 - accuracy: 0.9930 - val_loss: 0.0239 - val_accuracy: 0.9934\n",
            "Epoch 13/15\n",
            "469/469 [==============================] - 139s 296ms/step - loss: 0.0208 - accuracy: 0.9929 - val_loss: 0.0284 - val_accuracy: 0.9916\n",
            "Epoch 14/15\n",
            "469/469 [==============================] - 141s 301ms/step - loss: 0.0160 - accuracy: 0.9946 - val_loss: 0.0294 - val_accuracy: 0.9921\n",
            "Epoch 15/15\n",
            "469/469 [==============================] - 139s 297ms/step - loss: 0.0177 - accuracy: 0.9938 - val_loss: 0.0262 - val_accuracy: 0.9918\n"
          ],
          "name": "stdout"
        },
        {
          "output_type": "execute_result",
          "data": {
            "text/plain": [
              "<tensorflow.python.keras.callbacks.History at 0x7f2761996630>"
            ]
          },
          "metadata": {
            "tags": []
          },
          "execution_count": 45
        }
      ]
    },
    {
      "cell_type": "markdown",
      "metadata": {
        "id": "Zc7Owh4C09xg"
      },
      "source": [
        "**Step4: Evaluate model**"
      ]
    },
    {
      "cell_type": "code",
      "metadata": {
        "id": "XBosN_t20v_c",
        "outputId": "e9fc77fe-6239-4b0a-9d50-778f3a0d15e9",
        "colab": {
          "base_uri": "https://localhost:8080/",
          "height": 85
        }
      },
      "source": [
        "pred = model.evaluate(X_test, y_test)\n",
        "print('\\nLoss = ' + str(pred[0]))\n",
        "print('Test Accuracy = ' + str(pred[1]))"
      ],
      "execution_count": 49,
      "outputs": [
        {
          "output_type": "stream",
          "text": [
            "313/313 [==============================] - 7s 21ms/step - loss: 0.0262 - accuracy: 0.9918\n",
            "\n",
            "Loss = 0.026232711970806122\n",
            "Test Accuracy = 0.9918000102043152\n"
          ],
          "name": "stdout"
        }
      ]
    }
  ]
}